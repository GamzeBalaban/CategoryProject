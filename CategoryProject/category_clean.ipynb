{
 "cells": [
  {
   "cell_type": "markdown",
   "metadata": {
    "id": "fDFOb4BC0bo_"
   },
   "source": [
    "# IMPORT LIBRARIES\n"
   ]
  },
  {
   "cell_type": "code",
   "execution_count": 1,
   "metadata": {
    "colab": {
     "base_uri": "https://localhost:8080/"
    },
    "id": "I55QN2PC0bz_",
    "outputId": "31a3aefc-0fcc-4395-da6f-dec6589950cc"
   },
   "outputs": [
    {
     "name": "stdout",
     "output_type": "stream",
     "text": [
      "Collecting contractions\n",
      "  Downloading contractions-0.1.73-py2.py3-none-any.whl.metadata (1.2 kB)\n",
      "Collecting textsearch>=0.0.21 (from contractions)\n",
      "  Downloading textsearch-0.0.24-py2.py3-none-any.whl.metadata (1.2 kB)\n",
      "Collecting anyascii (from textsearch>=0.0.21->contractions)\n",
      "  Downloading anyascii-0.3.2-py3-none-any.whl.metadata (1.5 kB)\n",
      "Collecting pyahocorasick (from textsearch>=0.0.21->contractions)\n",
      "  Downloading pyahocorasick-2.1.0-cp311-cp311-manylinux_2_17_x86_64.manylinux2014_x86_64.whl.metadata (13 kB)\n",
      "Downloading contractions-0.1.73-py2.py3-none-any.whl (8.7 kB)\n",
      "Downloading textsearch-0.0.24-py2.py3-none-any.whl (7.6 kB)\n",
      "Downloading anyascii-0.3.2-py3-none-any.whl (289 kB)\n",
      "\u001b[2K   \u001b[90m━━━━━━━━━━━━━━━━━━━━━━━━━━━━━━━━━━━━━━━━\u001b[0m \u001b[32m289.9/289.9 kB\u001b[0m \u001b[31m9.4 MB/s\u001b[0m eta \u001b[36m0:00:00\u001b[0m\n",
      "\u001b[?25hDownloading pyahocorasick-2.1.0-cp311-cp311-manylinux_2_17_x86_64.manylinux2014_x86_64.whl (118 kB)\n",
      "\u001b[2K   \u001b[90m━━━━━━━━━━━━━━━━━━━━━━━━━━━━━━━━━━━━━━━━\u001b[0m \u001b[32m118.3/118.3 kB\u001b[0m \u001b[31m8.9 MB/s\u001b[0m eta \u001b[36m0:00:00\u001b[0m\n",
      "\u001b[?25hInstalling collected packages: pyahocorasick, anyascii, textsearch, contractions\n",
      "Successfully installed anyascii-0.3.2 contractions-0.1.73 pyahocorasick-2.1.0 textsearch-0.0.24\n",
      "Requirement already satisfied: xgboost in /usr/local/lib/python3.11/dist-packages (2.1.4)\n",
      "Requirement already satisfied: numpy in /usr/local/lib/python3.11/dist-packages (from xgboost) (2.0.2)\n",
      "Requirement already satisfied: nvidia-nccl-cu12 in /usr/local/lib/python3.11/dist-packages (from xgboost) (2.21.5)\n",
      "Requirement already satisfied: scipy in /usr/local/lib/python3.11/dist-packages (from xgboost) (1.15.2)\n"
     ]
    }
   ],
   "source": [
    "!pip install contractions\n",
    "!pip install xgboost\n"
   ]
  },
  {
   "cell_type": "code",
   "execution_count": 4,
   "metadata": {
    "colab": {
     "base_uri": "https://localhost:8080/"
    },
    "id": "VW7ZkPpK0b-P",
    "outputId": "21199465-a07e-43c2-d633-a7be6c3aa52e"
   },
   "outputs": [
    {
     "name": "stdout",
     "output_type": "stream",
     "text": [
      "Mounted at /content/drive\n"
     ]
    },
    {
     "name": "stderr",
     "output_type": "stream",
     "text": [
      "[nltk_data] Downloading package punkt_tab to /root/nltk_data...\n",
      "[nltk_data]   Unzipping tokenizers/punkt_tab.zip.\n",
      "[nltk_data] Downloading package stopwords to /root/nltk_data...\n",
      "[nltk_data]   Unzipping corpora/stopwords.zip.\n",
      "[nltk_data] Downloading package wordnet to /root/nltk_data...\n",
      "[nltk_data] Downloading package averaged_perceptron_tagger_eng to\n",
      "[nltk_data]     /root/nltk_data...\n",
      "[nltk_data]   Unzipping taggers/averaged_perceptron_tagger_eng.zip.\n",
      "[nltk_data] Downloading package omw-1.4 to /root/nltk_data...\n"
     ]
    }
   ],
   "source": [
    "import torch\n",
    "import torch.nn as nn\n",
    "import torch.optim as optim\n",
    "from transformers import BertTokenizer, BertForSequenceClassification\n",
    "from torch.utils.data import DataLoader, TensorDataset, random_split\n",
    "import pandas as pd\n",
    "import numpy as np\n",
    "from sklearn.metrics import accuracy_score, f1_score\n",
    "import re\n",
    "import nltk\n",
    "import contractions\n",
    "from nltk.tokenize import word_tokenize\n",
    "from nltk.stem import WordNetLemmatizer\n",
    "import kagglehub\n",
    "import os\n",
    "from nltk.corpus import stopwords, wordnet\n",
    "from nltk.tokenize import word_tokenize\n",
    "from nltk import pos_tag\n",
    "import string\n",
    "from imblearn.over_sampling import SMOTE\n",
    "from sklearn.preprocessing import LabelEncoder\n",
    "from sklearn.model_selection import train_test_split\n",
    "from transformers import BertTokenizer\n",
    "import torch\n",
    "from torch.utils.data import TensorDataset, DataLoader\n",
    "from transformers import BertForSequenceClassification\n",
    "from transformers import get_scheduler\n",
    "import matplotlib.pyplot as plt\n",
    "from sklearn.metrics import accuracy_score, f1_score\n",
    "from sklearn.metrics import classification_report, confusion_matrix, ConfusionMatrixDisplay\n",
    "from google.colab import drive\n",
    "import joblib\n",
    "from sklearn.feature_extraction.text import TfidfVectorizer\n",
    "from sklearn.model_selection import train_test_split\n",
    "from sklearn.linear_model import LogisticRegression\n",
    "from sklearn.metrics import classification_report, confusion_matrix, ConfusionMatrixDisplay\n",
    "from sklearn.pipeline import Pipeline\n",
    "import xgboost as xgb\n",
    "import kagglehub\n",
    "\n",
    "drive.mount('/content/drive')\n",
    "\n",
    "nltk.download('punkt_tab')\n",
    "nltk.download('stopwords')\n",
    "nltk.download('wordnet')\n",
    "nltk.download('averaged_perceptron_tagger_eng')\n",
    "nltk.download('omw-1.4')\n",
    "\n",
    "stop_words = set(stopwords.words('english'))\n",
    "punctuations = set(string.punctuation)\n",
    "lemmatizer = WordNetLemmatizer()\n"
   ]
  },
  {
   "cell_type": "markdown",
   "metadata": {
    "id": "AULd5bPa8Pg2"
   },
   "source": [
    "# Read data"
   ]
  },
  {
   "cell_type": "code",
   "execution_count": 5,
   "metadata": {
    "colab": {
     "base_uri": "https://localhost:8080/"
    },
    "id": "kgMJGpb-8FGu",
    "outputId": "39c33e93-92ee-40ce-ebff-e20430abab3f"
   },
   "outputs": [
    {
     "name": "stdout",
     "output_type": "stream",
     "text": [
      "Downloading from https://www.kaggle.com/api/v1/datasets/download/nicapotato/womens-ecommerce-clothing-reviews?dataset_version_number=1...\n"
     ]
    },
    {
     "name": "stderr",
     "output_type": "stream",
     "text": [
      "100%|██████████| 2.79M/2.79M [00:00<00:00, 4.38MB/s]"
     ]
    },
    {
     "name": "stdout",
     "output_type": "stream",
     "text": [
      "Extracting files...\n"
     ]
    },
    {
     "name": "stderr",
     "output_type": "stream",
     "text": [
      "\n"
     ]
    },
    {
     "name": "stdout",
     "output_type": "stream",
     "text": [
      "Path to dataset files: /root/.cache/kagglehub/datasets/nicapotato/womens-ecommerce-clothing-reviews/versions/1\n"
     ]
    }
   ],
   "source": [
    "\n",
    "# Download latest version\n",
    "path = kagglehub.dataset_download(\"nicapotato/womens-ecommerce-clothing-reviews\")\n",
    "print(\"Path to dataset files:\", path)\n"
   ]
  },
  {
   "cell_type": "code",
   "execution_count": 6,
   "metadata": {
    "colab": {
     "base_uri": "https://localhost:8080/",
     "height": 304
    },
    "id": "0X5zGpWo8U_G",
    "outputId": "81cd4c20-9873-4cf3-ecef-37117a155344"
   },
   "outputs": [
    {
     "data": {
      "text/html": [
       "<div>\n",
       "<style scoped>\n",
       "    .dataframe tbody tr th:only-of-type {\n",
       "        vertical-align: middle;\n",
       "    }\n",
       "\n",
       "    .dataframe tbody tr th {\n",
       "        vertical-align: top;\n",
       "    }\n",
       "\n",
       "    .dataframe thead th {\n",
       "        text-align: right;\n",
       "    }\n",
       "</style>\n",
       "<table border=\"1\" class=\"dataframe\">\n",
       "  <thead>\n",
       "    <tr style=\"text-align: right;\">\n",
       "      <th></th>\n",
       "      <th>count</th>\n",
       "    </tr>\n",
       "    <tr>\n",
       "      <th>Department Name</th>\n",
       "      <th></th>\n",
       "    </tr>\n",
       "  </thead>\n",
       "  <tbody>\n",
       "    <tr>\n",
       "      <th>Tops</th>\n",
       "      <td>10468</td>\n",
       "    </tr>\n",
       "    <tr>\n",
       "      <th>Dresses</th>\n",
       "      <td>6319</td>\n",
       "    </tr>\n",
       "    <tr>\n",
       "      <th>Bottoms</th>\n",
       "      <td>3799</td>\n",
       "    </tr>\n",
       "    <tr>\n",
       "      <th>Intimate</th>\n",
       "      <td>1735</td>\n",
       "    </tr>\n",
       "    <tr>\n",
       "      <th>Jackets</th>\n",
       "      <td>1032</td>\n",
       "    </tr>\n",
       "    <tr>\n",
       "      <th>Trend</th>\n",
       "      <td>119</td>\n",
       "    </tr>\n",
       "  </tbody>\n",
       "</table>\n",
       "</div><br><label><b>dtype:</b> int64</label>"
      ],
      "text/plain": [
       "Department Name\n",
       "Tops        10468\n",
       "Dresses      6319\n",
       "Bottoms      3799\n",
       "Intimate     1735\n",
       "Jackets      1032\n",
       "Trend         119\n",
       "Name: count, dtype: int64"
      ]
     },
     "execution_count": 6,
     "metadata": {},
     "output_type": "execute_result"
    }
   ],
   "source": [
    "file_path = os.path.join(path,\"Womens Clothing E-Commerce Reviews.csv\")\n",
    "df = pd.read_csv(file_path, encoding=\"ISO-8859-1\")\n",
    "df['Department Name'].value_counts().head(6)"
   ]
  },
  {
   "cell_type": "markdown",
   "metadata": {
    "id": "OvHhWWrX8YGu"
   },
   "source": [
    "# Plot"
   ]
  },
  {
   "cell_type": "code",
   "execution_count": 7,
   "metadata": {
    "colab": {
     "base_uri": "https://localhost:8080/",
     "height": 472
    },
    "id": "3VnFv0RJ8MNe",
    "outputId": "4c6eb29c-f129-4679-ee58-6751759652aa"
   },
   "outputs": [
    {
     "data": {
      "image/png": "[encoded data removed]",
      "text/plain": [
       "<Figure size 640x480 with 1 Axes>"
      ]
     },
     "metadata": {},
     "output_type": "display_data"
    }
   ],
   "source": [
    "\n",
    "df['Class Name'].value_counts().head(10).plot(kind='barh', color='green')\n",
    "plt.title('Top 10 Most Reviewed Clothing Classes')\n",
    "plt.xlabel('Number of Reviews')\n",
    "plt.show()\n"
   ]
  },
  {
   "cell_type": "code",
   "execution_count": 8,
   "metadata": {
    "colab": {
     "base_uri": "https://localhost:8080/",
     "height": 472
    },
    "id": "ELspnTfJ8NX2",
    "outputId": "4e6c78a7-94e9-42e4-dcb0-f64061f5222e"
   },
   "outputs": [
    {
     "data": {
      "image/png": "[encoded data removed]",
      "text/plain": [
       "<Figure size 640x480 with 1 Axes>"
      ]
     },
     "metadata": {},
     "output_type": "display_data"
    }
   ],
   "source": [
    "\n",
    "df['Department Name'].value_counts().head(10).plot(kind='barh', color='orange')\n",
    "plt.title('Reviewed Clothing Department')\n",
    "plt.xlabel('Number of Reviews')\n",
    "plt.show()"
   ]
  },
  {
   "cell_type": "markdown",
   "metadata": {
    "id": "yrvPr0ZN2trJ"
   },
   "source": [
    "# Clean Text\n"
   ]
  },
  {
   "cell_type": "code",
   "execution_count": 9,
   "metadata": {
    "id": "EDmYU45X0cA3"
   },
   "outputs": [],
   "source": [
    "#boş yorumlar  ve eksik veriler silinir.\n",
    "df.dropna(subset=['Review Text'], inplace=True)\n",
    "df.dropna(subset=['Department Name'], inplace=True)\n",
    "df = df[df['Review Text'].str.strip() != \"\"]\n"
   ]
  },
  {
   "cell_type": "code",
   "execution_count": 10,
   "metadata": {
    "id": "GElAqaHu0cDo"
   },
   "outputs": [],
   "source": [
    "def get_wordnet_pos(tag):\n",
    "     if tag.startswith('J'):\n",
    "       return wordnet.ADJ\n",
    "     elif tag.startswith('V'):\n",
    "       return wordnet.VERB\n",
    "     elif tag.startswith('N'):\n",
    "       return wordnet.NOUN\n",
    "     elif tag.startswith('R'):\n",
    "       return wordnet.ADV\n",
    "     else:\n",
    "       return wordnet.NOUN"
   ]
  },
  {
   "cell_type": "code",
   "execution_count": 11,
   "metadata": {
    "id": "H2-cmpJE3R0z"
   },
   "outputs": [],
   "source": [
    "def clean_text(text):\n",
    "     text = contractions.fix(text) #kısa kelimeleri açar don't->do not\n",
    "     text = text.lower()\n",
    "     # özel karakterleri temizler\n",
    "     text = re.sub(r'[^a-zA-Z0-9\\s]', '', text)\n",
    "     # birden fazla boşluğu tek bir boşlukla değiştirip baştaki ve sondaki boşlukları kaldırır\n",
    "     text = re.sub(r'\\s+', ' ', text).strip()\n",
    "     words = word_tokenize(text) #cümleyi kelimelere ayırır\n",
    "     words = [t for t in words if t not in stop_words and t not in punctuations and t.isalpha()]\n",
    "     pos_tags = pos_tag(words)\n",
    "     lemmatized = [lemmatizer.lemmatize(word, get_wordnet_pos(tag)) for word, tag in pos_tags]\n",
    "\n",
    "     return \" \".join(lemmatized)\n",
    "\n",
    "df['Review Text'] = df['Review Text'].apply(clean_text)\n"
   ]
  },
  {
   "cell_type": "code",
   "execution_count": 12,
   "metadata": {
    "colab": {
     "base_uri": "https://localhost:8080/",
     "height": 241
    },
    "id": "zl-isHHu3R3Z",
    "outputId": "d72fb9e9-cf55-4aa4-eaea-8f77004b8ea0"
   },
   "outputs": [
    {
     "data": {
      "text/html": [
       "<div>\n",
       "<style scoped>\n",
       "    .dataframe tbody tr th:only-of-type {\n",
       "        vertical-align: middle;\n",
       "    }\n",
       "\n",
       "    .dataframe tbody tr th {\n",
       "        vertical-align: top;\n",
       "    }\n",
       "\n",
       "    .dataframe thead th {\n",
       "        text-align: right;\n",
       "    }\n",
       "</style>\n",
       "<table border=\"1\" class=\"dataframe\">\n",
       "  <thead>\n",
       "    <tr style=\"text-align: right;\">\n",
       "      <th></th>\n",
       "      <th>Review Text</th>\n",
       "    </tr>\n",
       "  </thead>\n",
       "  <tbody>\n",
       "    <tr>\n",
       "      <th>0</th>\n",
       "      <td>absolutely wonderful silky sexy comfortable</td>\n",
       "    </tr>\n",
       "    <tr>\n",
       "      <th>1</th>\n",
       "      <td>love dress sooo pretty happen find store glad ...</td>\n",
       "    </tr>\n",
       "    <tr>\n",
       "      <th>2</th>\n",
       "      <td>high hope dress really wanted work initially o...</td>\n",
       "    </tr>\n",
       "    <tr>\n",
       "      <th>3</th>\n",
       "      <td>love love love jumpsuit fun flirty fabulous ev...</td>\n",
       "    </tr>\n",
       "    <tr>\n",
       "      <th>4</th>\n",
       "      <td>shirt flatter due adjustable front tie perfect...</td>\n",
       "    </tr>\n",
       "  </tbody>\n",
       "</table>\n",
       "</div><br><label><b>dtype:</b> object</label>"
      ],
      "text/plain": [
       "0          absolutely wonderful silky sexy comfortable\n",
       "1    love dress sooo pretty happen find store glad ...\n",
       "2    high hope dress really wanted work initially o...\n",
       "3    love love love jumpsuit fun flirty fabulous ev...\n",
       "4    shirt flatter due adjustable front tie perfect...\n",
       "Name: Review Text, dtype: object"
      ]
     },
     "execution_count": 12,
     "metadata": {},
     "output_type": "execute_result"
    }
   ],
   "source": [
    "df['Review Text'].head()"
   ]
  },
  {
   "cell_type": "markdown",
   "metadata": {
    "id": "UT8SSvm43mJa"
   },
   "source": [
    "# LabelEncoder"
   ]
  },
  {
   "cell_type": "code",
   "execution_count": 13,
   "metadata": {
    "colab": {
     "base_uri": "https://localhost:8080/",
     "height": 241
    },
    "id": "Y6PJ2MoV3R6R",
    "outputId": "2abefdef-100a-4025-9709-a85716939173"
   },
   "outputs": [
    {
     "data": {
      "text/html": [
       "<div>\n",
       "<style scoped>\n",
       "    .dataframe tbody tr th:only-of-type {\n",
       "        vertical-align: middle;\n",
       "    }\n",
       "\n",
       "    .dataframe tbody tr th {\n",
       "        vertical-align: top;\n",
       "    }\n",
       "\n",
       "    .dataframe thead th {\n",
       "        text-align: right;\n",
       "    }\n",
       "</style>\n",
       "<table border=\"1\" class=\"dataframe\">\n",
       "  <thead>\n",
       "    <tr style=\"text-align: right;\">\n",
       "      <th></th>\n",
       "      <th>Department_encoded</th>\n",
       "    </tr>\n",
       "  </thead>\n",
       "  <tbody>\n",
       "    <tr>\n",
       "      <th>0</th>\n",
       "      <td>2</td>\n",
       "    </tr>\n",
       "    <tr>\n",
       "      <th>1</th>\n",
       "      <td>1</td>\n",
       "    </tr>\n",
       "    <tr>\n",
       "      <th>2</th>\n",
       "      <td>1</td>\n",
       "    </tr>\n",
       "    <tr>\n",
       "      <th>3</th>\n",
       "      <td>0</td>\n",
       "    </tr>\n",
       "    <tr>\n",
       "      <th>4</th>\n",
       "      <td>4</td>\n",
       "    </tr>\n",
       "  </tbody>\n",
       "</table>\n",
       "</div><br><label><b>dtype:</b> int64</label>"
      ],
      "text/plain": [
       "0    2\n",
       "1    1\n",
       "2    1\n",
       "3    0\n",
       "4    4\n",
       "Name: Department_encoded, dtype: int64"
      ]
     },
     "execution_count": 13,
     "metadata": {},
     "output_type": "execute_result"
    }
   ],
   "source": [
    "\n",
    "#encode işlemi\n",
    "label_encoder= LabelEncoder()\n",
    "df['Department_encoded']=label_encoder.fit_transform(df['Department Name'])\n",
    "\n",
    "df['Department_encoded'].head()\n"
   ]
  },
  {
   "cell_type": "markdown",
   "metadata": {
    "id": "D5-XhZTB3rkj"
   },
   "source": [
    "# Train-Test Split"
   ]
  },
  {
   "cell_type": "code",
   "execution_count": 14,
   "metadata": {
    "id": "bKP-y3lN3rqK"
   },
   "outputs": [],
   "source": [
    "X_train,X_test,y_train,y_test= train_test_split(df['Review Text'], df['Department_encoded'],test_size=0.2,random_state=42)"
   ]
  },
  {
   "cell_type": "markdown",
   "metadata": {
    "id": "gnq-zZMN34Pa"
   },
   "source": [
    "# BertTokenizer"
   ]
  },
  {
   "cell_type": "code",
   "execution_count": 15,
   "metadata": {
    "colab": {
     "base_uri": "https://localhost:8080/",
     "height": 269,
     "referenced_widgets": [
      "70a679d6f14c496bb46a68733096333f",
      "2ba9d0850086438fb1a383e60b4a614c",
      "80b95ca9b0b74d19b70d919683baa474",
      "adbfba15be584cca843799a20fa469ff",
      "10ab96a917e648f590cb89609409f859",
      "36c35bf3ccc64a59bf8d59d8211409e4",
      "fa125a4453df49498118478c32849504",
      "9c5d62885ab44d10a9682f2b4db7cbac",
      "94bfa23e8d3a47e5ab98369c39ca7ce9",
      "fe52452b096445eb907dd31b6f002248",
      "4568b76004724508a421fc4711d908cb",
      "3f9b1548f140410ea1663861d04db031",
      "e1c143134c3342a6a7bb584d7f6469d2",
      "835d2e2b847a4df9b61519407d0978a6",
      "f3804fc5a2584622b2d293fd1d27c419",
      "f611e154eff24d24a2c10f331706cc3f",
      "c0106c40c7344a34b6da2a7768f1d51e",
      "58415ee1c32d44c9b44c0e8f02fa7707",
      "7c5ecc3cf41847ef907dabfecd4fd9bd",
      "a9ed055ad2714d00abeb2c065af76670",
      "0ae273a80ff7425bbca78899c2fa8ccb",
      "12ad022ee67147c5835b5cd7546a581d",
      "222a92f5f57a494b909eef460192dc9a",
      "254bf3caa59c4e869008b9fd499065c8",
      "9a7bd0e2b04c4878ab13819edb0f496a",
      "442eb69d0c3d4c6497e61b1bff35dd71",
      "c30bf73b737e407783b93139c487855c",
      "2a0edce4e3be448bbfe1ce9d5e56764d",
      "32eb47a2dbb24337addbd2a52f4ff651",
      "55069a8e8edc4faf86c79acd0b719fc2",
      "9d2270c6c05d4038ac01bc54d66ebc50",
      "d7190a148f694c4583f154783f6ae4dc",
      "75b784299e424ec9ae44c5efdfa4159f",
      "799f188400d045f6b62fccd19d38b5df",
      "58222f8ddbbd4f249910ff811d4e7b96",
      "029796e0d01c46a69e19c722d62f3df6",
      "9b2d4ee71e394588ad0aded98a5c1858",
      "6710d6aa477a4c50bd8d0ba2150c98fc",
      "2a19cd9851724bce8538d23f26488de4",
      "f49b9a75597d465dbfee332606b2159f",
      "d55f5d126baf4fd1bb2fc3b84a625960",
      "ae0743240fe24ea1a4d666168dd272e9",
      "b8956d0f3eb548a38e9ca104766c4c3d",
      "4f002ae102224ec58254113f28f2299a"
     ]
    },
    "id": "WoHXLxzF3zmF",
    "outputId": "a217bd4c-b5dd-4910-ccde-24cdd9e10b52"
   },
   "outputs": [
    {
     "name": "stderr",
     "output_type": "stream",
     "text": [
      "/usr/local/lib/python3.11/dist-packages/huggingface_hub/utils/_auth.py:94: UserWarning: \n",
      "The secret `HF_TOKEN` does not exist in your Colab secrets.\n",
      "To authenticate with the Hugging Face Hub, create a token in your settings tab (https://huggingface.co/settings/tokens), set it as secret in your Google Colab and restart your session.\n",
      "You will be able to reuse this secret in all of your notebooks.\n",
      "Please note that authentication is recommended but still optional to access public models or datasets.\n",
      "  warnings.warn(\n"
     ]
    },
    {
     "data": {
      "application/vnd.jupyter.widget-view+json": {
       "model_id": "70a679d6f14c496bb46a68733096333f",
       "version_major": 2,
       "version_minor": 0
      },
      "text/plain": [
       "tokenizer_config.json:   0%|          | 0.00/48.0 [00:00<?, ?B/s]"
      ]
     },
     "metadata": {},
     "output_type": "display_data"
    },
    {
     "data": {
      "application/vnd.jupyter.widget-view+json": {
       "model_id": "3f9b1548f140410ea1663861d04db031",
       "version_major": 2,
       "version_minor": 0
      },
      "text/plain": [
       "vocab.txt:   0%|          | 0.00/232k [00:00<?, ?B/s]"
      ]
     },
     "metadata": {},
     "output_type": "display_data"
    },
    {
     "data": {
      "application/vnd.jupyter.widget-view+json": {
       "model_id": "222a92f5f57a494b909eef460192dc9a",
       "version_major": 2,
       "version_minor": 0
      },
      "text/plain": [
       "tokenizer.json:   0%|          | 0.00/466k [00:00<?, ?B/s]"
      ]
     },
     "metadata": {},
     "output_type": "display_data"
    },
    {
     "data": {
      "application/vnd.jupyter.widget-view+json": {
       "model_id": "799f188400d045f6b62fccd19d38b5df",
       "version_major": 2,
       "version_minor": 0
      },
      "text/plain": [
       "config.json:   0%|          | 0.00/570 [00:00<?, ?B/s]"
      ]
     },
     "metadata": {},
     "output_type": "display_data"
    }
   ],
   "source": [
    "\n",
    "tokenizer= BertTokenizer.from_pretrained('bert-base-uncased')\n",
    "\n",
    "def tokenize_reviews(texts, tokenizer, max_len=256):\n",
    "      return tokenizer(texts.tolist(),padding=True,truncation=True,max_length=max_len,return_tensors='pt')\n",
    "\n",
    "\n",
    "train_encodings=tokenize_reviews(X_train, tokenizer)\n",
    "test_encodings=tokenize_reviews(X_test,tokenizer)"
   ]
  },
  {
   "cell_type": "markdown",
   "metadata": {
    "id": "JFL74s-14HZi"
   },
   "source": [
    "# Tensor Dataset"
   ]
  },
  {
   "cell_type": "code",
   "execution_count": 16,
   "metadata": {
    "id": "IwjRRN_c3zoh"
   },
   "outputs": [],
   "source": [
    "\n",
    "train_dataset=TensorDataset(train_encodings['input_ids'], train_encodings['attention_mask'], torch.tensor(y_train.tolist()))\n",
    "test_dataset=TensorDataset(test_encodings['input_ids'],test_encodings['attention_mask'], torch.tensor(y_test.tolist()))\n"
   ]
  },
  {
   "cell_type": "markdown",
   "metadata": {
    "id": "B6mvYg3D4J7D"
   },
   "source": [
    "# Data Loader\n",
    "batch"
   ]
  },
  {
   "cell_type": "code",
   "execution_count": 17,
   "metadata": {
    "id": "iiJqbdiv4KCD"
   },
   "outputs": [],
   "source": [
    "train_loader=DataLoader(train_dataset, batch_size=16, shuffle=True)\n",
    "test_loader= DataLoader(test_dataset,batch_size=16, shuffle=True)"
   ]
  },
  {
   "cell_type": "markdown",
   "metadata": {
    "id": "3rgNTfvR4bor"
   },
   "source": [
    "# Classification"
   ]
  },
  {
   "cell_type": "code",
   "execution_count": 18,
   "metadata": {
    "colab": {
     "base_uri": "https://localhost:8080/",
     "height": 104,
     "referenced_widgets": [
      "ac77e7d7dc0e47e990cf5019f2607a2c",
      "2069dc9f6dc6460b88c02d0c81aead98",
      "17c5106193d24d78b9e0874fabee4b76",
      "41cab9c2af374e55903a861c4228f67f",
      "8e0e84f1490a426291289693124a01e4",
      "f7a93551f8af4a209f8b7fff7a814a7e",
      "431c645820e14988b5c98a051b168851",
      "ea98381a55e84be6a03ee45e6384f169",
      "d30ec6f5e92d4a6baeb4c079bcf4f5ae",
      "3774a373888b4079a912d15b40010da9",
      "c1d094d764fa4b52b6e323d9b1dc9bd9"
     ]
    },
    "id": "zeOYKZyX4bvX",
    "outputId": "7a680986-25b9-417d-d298-1b054bc4b097"
   },
   "outputs": [
    {
     "data": {
      "application/vnd.jupyter.widget-view+json": {
       "model_id": "ac77e7d7dc0e47e990cf5019f2607a2c",
       "version_major": 2,
       "version_minor": 0
      },
      "text/plain": [
       "model.safetensors:   0%|          | 0.00/440M [00:00<?, ?B/s]"
      ]
     },
     "metadata": {},
     "output_type": "display_data"
    },
    {
     "name": "stderr",
     "output_type": "stream",
     "text": [
      "Some weights of BertForSequenceClassification were not initialized from the model checkpoint at bert-base-uncased and are newly initialized: ['classifier.bias', 'classifier.weight']\n",
      "You should probably TRAIN this model on a down-stream task to be able to use it for predictions and inference.\n"
     ]
    }
   ],
   "source": [
    "model = BertForSequenceClassification.from_pretrained('bert-base-uncased', num_labels=len(label_encoder.classes_))"
   ]
  },
  {
   "cell_type": "markdown",
   "metadata": {
    "id": "ujIB3V_u4hN0"
   },
   "source": [
    "**device**"
   ]
  },
  {
   "cell_type": "code",
   "execution_count": 19,
   "metadata": {
    "colab": {
     "base_uri": "https://localhost:8080/"
    },
    "id": "pETdY8bC4hUL",
    "outputId": "b5310a4b-0047-48f2-8637-78d074ce2b0e"
   },
   "outputs": [
    {
     "data": {
      "text/plain": [
       "BertForSequenceClassification(\n",
       "  (bert): BertModel(\n",
       "    (embeddings): BertEmbeddings(\n",
       "      (word_embeddings): Embedding(30522, 768, padding_idx=0)\n",
       "      (position_embeddings): Embedding(512, 768)\n",
       "      (token_type_embeddings): Embedding(2, 768)\n",
       "      (LayerNorm): LayerNorm((768,), eps=1e-12, elementwise_affine=True)\n",
       "      (dropout): Dropout(p=0.1, inplace=False)\n",
       "    )\n",
       "    (encoder): BertEncoder(\n",
       "      (layer): ModuleList(\n",
       "        (0-11): 12 x BertLayer(\n",
       "          (attention): BertAttention(\n",
       "            (self): BertSdpaSelfAttention(\n",
       "              (query): Linear(in_features=768, out_features=768, bias=True)\n",
       "              (key): Linear(in_features=768, out_features=768, bias=True)\n",
       "              (value): Linear(in_features=768, out_features=768, bias=True)\n",
       "              (dropout): Dropout(p=0.1, inplace=False)\n",
       "            )\n",
       "            (output): BertSelfOutput(\n",
       "              (dense): Linear(in_features=768, out_features=768, bias=True)\n",
       "              (LayerNorm): LayerNorm((768,), eps=1e-12, elementwise_affine=True)\n",
       "              (dropout): Dropout(p=0.1, inplace=False)\n",
       "            )\n",
       "          )\n",
       "          (intermediate): BertIntermediate(\n",
       "            (dense): Linear(in_features=768, out_features=3072, bias=True)\n",
       "            (intermediate_act_fn): GELUActivation()\n",
       "          )\n",
       "          (output): BertOutput(\n",
       "            (dense): Linear(in_features=3072, out_features=768, bias=True)\n",
       "            (LayerNorm): LayerNorm((768,), eps=1e-12, elementwise_affine=True)\n",
       "            (dropout): Dropout(p=0.1, inplace=False)\n",
       "          )\n",
       "        )\n",
       "      )\n",
       "    )\n",
       "    (pooler): BertPooler(\n",
       "      (dense): Linear(in_features=768, out_features=768, bias=True)\n",
       "      (activation): Tanh()\n",
       "    )\n",
       "  )\n",
       "  (dropout): Dropout(p=0.1, inplace=False)\n",
       "  (classifier): Linear(in_features=768, out_features=6, bias=True)\n",
       ")"
      ]
     },
     "execution_count": 19,
     "metadata": {},
     "output_type": "execute_result"
    }
   ],
   "source": [
    "device = torch.device(\"cuda\" if torch.cuda.is_available() else \"cpu\")\n",
    "model.to(device)"
   ]
  },
  {
   "cell_type": "markdown",
   "metadata": {
    "id": "02QYH2MY4b4y"
   },
   "source": [
    "**optimizer , lr_scheduler**"
   ]
  },
  {
   "cell_type": "code",
   "execution_count": 22,
   "metadata": {
    "id": "lH0MTHO34b-K"
   },
   "outputs": [],
   "source": [
    "optimizer = torch.optim.AdamW(model.parameters(), lr=2e-5)\n",
    "num_epochs = 6\n",
    "num_training_steps = len(train_loader) * num_epochs\n",
    "lr_scheduler = get_scheduler(\n",
    "     \"linear\",\n",
    "     optimizer=optimizer,\n",
    "     num_warmup_steps=0,\n",
    "     num_training_steps=num_training_steps\n",
    ")"
   ]
  },
  {
   "cell_type": "markdown",
   "metadata": {
    "id": "crykR2lD6ITc"
   },
   "source": [
    "# MODEL TRAINING"
   ]
  },
  {
   "cell_type": "code",
   "execution_count": 23,
   "metadata": {
    "colab": {
     "base_uri": "https://localhost:8080/"
    },
    "id": "gdZedeoO6IY8",
    "outputId": "ee684fc2-4aab-4d61-c42e-da6ab53da17e"
   },
   "outputs": [
    {
     "name": "stdout",
     "output_type": "stream",
     "text": [
      "Epoch 1/6\n",
      "Average loss: 0.2565\n",
      "Epoch 2/6\n",
      "Average loss: 0.1841\n",
      "Epoch 3/6\n",
      "Average loss: 0.1268\n",
      "Epoch 4/6\n",
      "Average loss: 0.0872\n",
      "Epoch 5/6\n",
      "Average loss: 0.0581\n",
      "Epoch 6/6\n",
      "Average loss: 0.0411\n"
     ]
    }
   ],
   "source": [
    "# MODEL TRAINING\n",
    "model.train()\n",
    "for epoch in range(num_epochs):\n",
    "     print(f\"Epoch {epoch+1}/{num_epochs}\")\n",
    "     total_loss = 0\n",
    "     for batch in train_loader:\n",
    "         input_ids, attention_mask, labels = [b.to(device) for b in batch]\n",
    "         outputs = model(input_ids=input_ids, attention_mask=attention_mask, labels=labels)\n",
    "         loss = outputs.loss\n",
    "         total_loss += loss.item()\n",
    "         loss.backward()\n",
    "         optimizer.step()\n",
    "         lr_scheduler.step()\n",
    "         optimizer.zero_grad()\n",
    "     print(f\"Average loss: {total_loss / len(train_loader):.4f}\")\n"
   ]
  },
  {
   "cell_type": "markdown",
   "metadata": {
    "id": "uiZ8Pdw-6If8"
   },
   "source": [
    "#  MODEL EVALUATION"
   ]
  },
  {
   "cell_type": "code",
   "execution_count": 24,
   "metadata": {
    "id": "SlXNhL2h6Im8"
   },
   "outputs": [],
   "source": [
    "# MODEL EVALUATION\n",
    "model.eval()\n",
    "all_preds = []\n",
    "all_labels = []\n",
    "with torch.no_grad():\n",
    "     for batch in test_loader:\n",
    "         input_ids, attention_mask, labels = [b.to(device) for b in batch]\n",
    "         outputs = model(input_ids=input_ids, attention_mask=attention_mask)\n",
    "         logits = outputs.logits\n",
    "         preds = torch.argmax(logits, dim=1)\n",
    "         all_preds.extend(preds.cpu().numpy())\n",
    "         all_labels.extend(labels.cpu().numpy())"
   ]
  },
  {
   "cell_type": "markdown",
   "metadata": {
    "id": "ulUBTsrI6Pyl"
   },
   "source": [
    "# CLASSIFICATION REPORT"
   ]
  },
  {
   "cell_type": "code",
   "execution_count": 25,
   "metadata": {
    "colab": {
     "base_uri": "https://localhost:8080/"
    },
    "id": "0UdDizkT6P3z",
    "outputId": "1d97cabe-5224-4479-8dfe-5ef087d19ee4"
   },
   "outputs": [
    {
     "name": "stdout",
     "output_type": "stream",
     "text": [
      "Accuracy:  0.8574900574458684\n",
      "F1 Score:  0.8518998447290124\n"
     ]
    }
   ],
   "source": [
    "\n",
    "acc = accuracy_score(all_labels, all_preds)\n",
    "f1 = f1_score(all_labels, all_preds, average='weighted')\n",
    "print(\"Accuracy: \", acc)\n",
    "print(\"F1 Score: \", f1)\n"
   ]
  },
  {
   "cell_type": "code",
   "execution_count": 26,
   "metadata": {
    "colab": {
     "base_uri": "https://localhost:8080/"
    },
    "id": "6J3srJD66Uxk",
    "outputId": "3ebf645d-a6bf-4a71-cda5-959c55c68402"
   },
   "outputs": [
    {
     "name": "stdout",
     "output_type": "stream",
     "text": [
      "\n",
      "Classification Report:\n",
      "              precision    recall  f1-score   support\n",
      "\n",
      "     Bottoms       0.83      0.85      0.84       718\n",
      "     Dresses       0.90      0.90      0.90      1260\n",
      "    Intimate       0.67      0.49      0.56       316\n",
      "     Jackets       0.71      0.63      0.67       211\n",
      "        Tops       0.88      0.93      0.90      1998\n",
      "       Trend       0.00      0.00      0.00        23\n",
      "\n",
      "    accuracy                           0.86      4526\n",
      "   macro avg       0.66      0.63      0.65      4526\n",
      "weighted avg       0.85      0.86      0.85      4526\n",
      "\n"
     ]
    }
   ],
   "source": [
    "unique_labels = sorted(np.unique(np.concatenate((all_labels, all_preds))))\n",
    "target_names = [str(label_encoder.classes_[i]) for i in unique_labels]\n",
    "\n",
    "# Classification report\n",
    "print(\"\\nClassification Report:\")\n",
    "print(classification_report(all_labels, all_preds, target_names=label_encoder.classes_))\n"
   ]
  },
  {
   "cell_type": "markdown",
   "metadata": {
    "id": "UsEpz0xL6X9M"
   },
   "source": [
    "# Confusion Matrix"
   ]
  },
  {
   "cell_type": "code",
   "execution_count": 27,
   "metadata": {
    "colab": {
     "base_uri": "https://localhost:8080/",
     "height": 472
    },
    "id": "J6VC0vcQ6U0l",
    "outputId": "aed064dd-2e3a-43a6-cd4f-3e52aec0961c"
   },
   "outputs": [
    {
     "data": {
      "image/png": "[encoded data removed]",
      "text/plain": [
       "<Figure size 640x480 with 2 Axes>"
      ]
     },
     "metadata": {},
     "output_type": "display_data"
    }
   ],
   "source": [
    "\n",
    "# Confusion Matrix\n",
    "cm = confusion_matrix(all_labels, all_preds)\n",
    "disp = ConfusionMatrixDisplay(confusion_matrix=cm, display_labels=label_encoder.classes_)\n",
    "disp.plot(cmap='Blues')\n",
    "plt.title(\"Confusion Matrix\")\n",
    "plt.show()"
   ]
  },
  {
   "cell_type": "markdown",
   "metadata": {
    "id": "neMxOoGH6jfF"
   },
   "source": [
    "# Save Model"
   ]
  },
  {
   "cell_type": "code",
   "execution_count": 28,
   "metadata": {
    "colab": {
     "base_uri": "https://localhost:8080/"
    },
    "id": "KcKKzxT66jn8",
    "outputId": "671268c1-e203-40be-9c66-40b6a5626f97"
   },
   "outputs": [
    {
     "name": "stdout",
     "output_type": "stream",
     "text": [
      "Model kaydedildi: /content/drive/MyDrive/bert_department_model.pt\n"
     ]
    }
   ],
   "source": [
    "model_save_path = \"/content/drive/MyDrive/bert_department_model.pt\"\n",
    "torch.save(model.state_dict(), model_save_path)\n",
    "print(\"Model kaydedildi:\", model_save_path)"
   ]
  },
  {
   "cell_type": "markdown",
   "metadata": {
    "id": "q2YRlPDQ6qeU"
   },
   "source": [
    "\n",
    "# XGBOOST\n",
    "\n"
   ]
  },
  {
   "cell_type": "markdown",
   "metadata": {
    "id": "fABcljFT65KV"
   },
   "source": [
    "# TfidfVectorizer"
   ]
  },
  {
   "cell_type": "code",
   "execution_count": 29,
   "metadata": {
    "id": "r4ICXLUa63MU"
   },
   "outputs": [],
   "source": [
    "vectorizer = TfidfVectorizer(ngram_range=(1, 2)) # Unigram + Bigram kullanımı kelime çifti**\n",
    "X_tfidf = vectorizer.fit_transform(df['Review Text'])"
   ]
  },
  {
   "cell_type": "code",
   "execution_count": 30,
   "metadata": {
    "id": "_OxeYzJ163PF"
   },
   "outputs": [],
   "source": [
    "# Hedef değişken\n",
    "y = df['Department_encoded']\n"
   ]
  },
  {
   "cell_type": "markdown",
   "metadata": {
    "id": "uxBF2mJ86_4N"
   },
   "source": [
    "# Train-Test Split"
   ]
  },
  {
   "cell_type": "code",
   "execution_count": 31,
   "metadata": {
    "id": "4ixy63nk63SE"
   },
   "outputs": [],
   "source": [
    "# eğitim ve test\n",
    "X_train, X_test, y_train, y_test = train_test_split(X_tfidf,y, test_size=0.2, random_state=42)\n"
   ]
  },
  {
   "cell_type": "markdown",
   "metadata": {
    "id": "a3T_N2ON7Jw1"
   },
   "source": [
    "# XGBClassifier"
   ]
  },
  {
   "cell_type": "code",
   "execution_count": 32,
   "metadata": {
    "colab": {
     "base_uri": "https://localhost:8080/"
    },
    "id": "_2pKzH2C7J1d",
    "outputId": "3464c15c-8ed1-43f1-a87c-0e073402c9bc"
   },
   "outputs": [
    {
     "name": "stderr",
     "output_type": "stream",
     "text": [
      "/usr/local/lib/python3.11/dist-packages/xgboost/core.py:158: UserWarning: [11:33:32] WARNING: /workspace/src/learner.cc:740: \n",
      "Parameters: { \"eval_metrics\", \"use_label_encoder\" } are not used.\n",
      "\n",
      "  warnings.warn(smsg, UserWarning)\n"
     ]
    }
   ],
   "source": [
    "xgb_model=xgb.XGBClassifier(\n",
    "     n_estimators=300,\n",
    "     learning_rate=0.1,\n",
    "     max_depth=6,\n",
    "     random_state=42,\n",
    "     use_label_encoder=False,\n",
    "     eval_metrics='mlogloss'\n",
    ")\n",
    "\n",
    "xgb_model.fit(X_train,y_train)\n",
    "\n",
    "y_pred=xgb_model.predict(X_test)"
   ]
  },
  {
   "cell_type": "markdown",
   "metadata": {
    "id": "xBl8R4Yy7NBd"
   },
   "source": [
    "#  Classification report"
   ]
  },
  {
   "cell_type": "code",
   "execution_count": 33,
   "metadata": {
    "colab": {
     "base_uri": "https://localhost:8080/"
    },
    "id": "fRrz8t5G7NG9",
    "outputId": "b769641b-b2b1-400e-814a-da22c2b4ddb3"
   },
   "outputs": [
    {
     "name": "stdout",
     "output_type": "stream",
     "text": [
      "Model Doğruluk Skoru: 0.8362792752982766\n",
      "\n",
      "Sınıflandırma Raporu:\n",
      "               precision    recall  f1-score   support\n",
      "\n",
      "           0       0.86      0.78      0.82       718\n",
      "           1       0.90      0.86      0.88      1260\n",
      "           2       0.81      0.40      0.54       316\n",
      "           3       0.74      0.60      0.66       211\n",
      "           4       0.81      0.94      0.87      1998\n",
      "           5       0.00      0.00      0.00        23\n",
      "\n",
      "    accuracy                           0.84      4526\n",
      "   macro avg       0.69      0.60      0.63      4526\n",
      "weighted avg       0.83      0.84      0.83      4526\n",
      "\n"
     ]
    },
    {
     "name": "stderr",
     "output_type": "stream",
     "text": [
      "/usr/local/lib/python3.11/dist-packages/sklearn/metrics/_classification.py:1565: UndefinedMetricWarning: Precision is ill-defined and being set to 0.0 in labels with no predicted samples. Use `zero_division` parameter to control this behavior.\n",
      "  _warn_prf(average, modifier, f\"{metric.capitalize()} is\", len(result))\n",
      "/usr/local/lib/python3.11/dist-packages/sklearn/metrics/_classification.py:1565: UndefinedMetricWarning: Precision is ill-defined and being set to 0.0 in labels with no predicted samples. Use `zero_division` parameter to control this behavior.\n",
      "  _warn_prf(average, modifier, f\"{metric.capitalize()} is\", len(result))\n",
      "/usr/local/lib/python3.11/dist-packages/sklearn/metrics/_classification.py:1565: UndefinedMetricWarning: Precision is ill-defined and being set to 0.0 in labels with no predicted samples. Use `zero_division` parameter to control this behavior.\n",
      "  _warn_prf(average, modifier, f\"{metric.capitalize()} is\", len(result))\n"
     ]
    }
   ],
   "source": [
    "print(\"Model Doğruluk Skoru:\", accuracy_score(y_test, y_pred))\n",
    "print(\"\\nSınıflandırma Raporu:\\n\", classification_report(y_test, y_pred))"
   ]
  },
  {
   "cell_type": "markdown",
   "metadata": {
    "id": "6licf0uF7VGF"
   },
   "source": [
    "# save model"
   ]
  },
  {
   "cell_type": "code",
   "execution_count": null,
   "metadata": {
    "id": "05S-x8KM7YFl"
   },
   "outputs": [],
   "source": [
    "joblib.dump(xgb_model, \"/content/drive/MyDrive/xgb_department_model.joblib\")"
   ]
  }
 ],
 "metadata": {
  "accelerator": "GPU",
  "colab": {
   "gpuType": "T4",
   "name": "Welcome To Colab",
   "provenance": []
  },
  "kernelspec": {
   "display_name": "Python 3",
   "name": "python3"
  }
 },
 "nbformat": 4,
 "nbformat_minor": 0
}
